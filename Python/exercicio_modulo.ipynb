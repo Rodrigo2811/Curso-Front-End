{
  "nbformat": 4,
  "nbformat_minor": 0,
  "metadata": {
    "colab": {
      "provenance": [],
      "collapsed_sections": [],
      "authorship_tag": "ABX9TyOjszJ38F9k/0a5BJ7RMYKU",
      "include_colab_link": true
    },
    "kernelspec": {
      "name": "python3",
      "display_name": "Python 3"
    },
    "language_info": {
      "name": "python"
    }
  },
  "cells": [
    {
      "cell_type": "markdown",
      "metadata": {
        "id": "view-in-github",
        "colab_type": "text"
      },
      "source": [
        "<a href=\"https://colab.research.google.com/github/Rodrigo2811/Curso-Front-End/blob/main/exercicio_modulo.ipynb\" target=\"_parent\"><img src=\"https://colab.research.google.com/assets/colab-badge.svg\" alt=\"Open In Colab\"/></a>"
      ]
    },
    {
      "cell_type": "code",
      "execution_count": 30,
      "metadata": {
        "id": "yKy_mkljcFmQ"
      },
      "outputs": [],
      "source": [
        "propaganda_online = [\n",
        "{'tempo_gasto_site': 68.95, 'idade': 35, 'renda_area': 61833.90,\n",
        "'tempo_gasto_internet': 256.09, 'cidade': 'Wrightburgh',\n",
        "'pais': 'Tunisia', 'clicou_no_ad': 0\n",
        "},\n",
        "{'tempo_gasto_site': 80.23, 'idade': 31, 'renda_area': 68441.85,\n",
        "'tempo_gasto_internet': 193.77, 'cidade': 'West Jodi',\n",
        "'pais': 'Nauru', 'clicou_no_ad': 0\n",
        "},\n",
        "{'tempo_gasto_site': 69.47, 'idade': 26, 'renda_area': 59785.94,\n",
        "'tempo_gasto_internet': 236.50, 'cidade': 'Davidton',\n",
        "'pais': 'San Marino', 'clicou_no_ad': 0\n",
        "},\n",
        "{'tempo_gasto_site': 68.37, 'idade': 35, 'renda_area': 73889.99,\n",
        "'tempo_gasto_internet': 225.58, 'cidade': 'South Manuel',\n",
        "'pais': 'Iceland', 'clicou_no_ad': 0\n",
        "},\n",
        "{'tempo_gasto_site': 88.91, 'idade': 33, 'renda_area': 53852.85,\n",
        "'tempo_gasto_internet': 208.36, 'cidade': 'Brandonstad',\n",
        "'pais': 'Myanmar', 'clicou_no_ad': 0\n",
        "},\n",
        "{'tempo_gasto_site': None, 'idade': 48, 'renda_area': 24593.33,\n",
        "'tempo_gasto_internet': 131.76, 'cidade': 'Port Jefferybury',\n",
        "'pais': 'Australia', 'clicou_no_ad': 1\n",
        "},\n",
        "{'tempo_gasto_site': 74.53, 'idade': 30, 'renda_area': 68862.00,\n",
        "'tempo_gasto_internet': 221.51, 'cidade': 'West Colin',\n",
        "'pais': 'Grenada'},\n",
        "{'tempo_gasto_site': 69.88, 'idade': 20, 'renda_area': 55642.32,\n",
        "'tempo_gasto_internet': 183.82, 'cidade': 'Ramirezton',\n",
        "'pais': 'Ghana', 'clicou_no_ad': 0\n",
        "}\n",
        "]"
      ]
    },
    {
      "cell_type": "code",
      "source": [
        "for dado_de_usuario in propaganda_online:\n",
        "  print(dado_de_usuario)"
      ],
      "metadata": {
        "colab": {
          "base_uri": "https://localhost:8080/"
        },
        "id": "eAQ28OG_ceGn",
        "outputId": "ab79c8bf-66a5-48a9-fc8b-3e2652c18b8b"
      },
      "execution_count": 31,
      "outputs": [
        {
          "output_type": "stream",
          "name": "stdout",
          "text": [
            "{'tempo_gasto_site': 68.95, 'idade': 35, 'renda_area': 61833.9, 'tempo_gasto_internet': 256.09, 'cidade': 'Wrightburgh', 'pais': 'Tunisia', 'clicou_no_ad': 0}\n",
            "{'tempo_gasto_site': 80.23, 'idade': 31, 'renda_area': 68441.85, 'tempo_gasto_internet': 193.77, 'cidade': 'West Jodi', 'pais': 'Nauru', 'clicou_no_ad': 0}\n",
            "{'tempo_gasto_site': 69.47, 'idade': 26, 'renda_area': 59785.94, 'tempo_gasto_internet': 236.5, 'cidade': 'Davidton', 'pais': 'San Marino', 'clicou_no_ad': 0}\n",
            "{'tempo_gasto_site': 68.37, 'idade': 35, 'renda_area': 73889.99, 'tempo_gasto_internet': 225.58, 'cidade': 'South Manuel', 'pais': 'Iceland', 'clicou_no_ad': 0}\n",
            "{'tempo_gasto_site': 88.91, 'idade': 33, 'renda_area': 53852.85, 'tempo_gasto_internet': 208.36, 'cidade': 'Brandonstad', 'pais': 'Myanmar', 'clicou_no_ad': 0}\n",
            "{'tempo_gasto_site': None, 'idade': 48, 'renda_area': 24593.33, 'tempo_gasto_internet': 131.76, 'cidade': 'Port Jefferybury', 'pais': 'Australia', 'clicou_no_ad': 1}\n",
            "{'tempo_gasto_site': 74.53, 'idade': 30, 'renda_area': 68862.0, 'tempo_gasto_internet': 221.51, 'cidade': 'West Colin', 'pais': 'Grenada'}\n",
            "{'tempo_gasto_site': 69.88, 'idade': 20, 'renda_area': 55642.32, 'tempo_gasto_internet': 183.82, 'cidade': 'Ramirezton', 'pais': 'Ghana', 'clicou_no_ad': 0}\n"
          ]
        }
      ]
    },
    {
      "cell_type": "code",
      "source": [
        "\n",
        "paises_com_mais_de_30 = []\n",
        "\n",
        "for i in range(len(propaganda_online)):\n",
        "    paises = propaganda_online[i]\n",
        "    if(paises['idade'] > 30):\n",
        "        paises_com_mais_de_30.append(f\"{paises['pais']} - {paises['idade']}\")\n",
        "\n",
        "print(paises_com_mais_de_30)"
      ],
      "metadata": {
        "colab": {
          "base_uri": "https://localhost:8080/"
        },
        "id": "duXwpP6OdDIe",
        "outputId": "ff8d7177-7764-4c72-b4cf-b6293f237cab"
      },
      "execution_count": 32,
      "outputs": [
        {
          "output_type": "stream",
          "name": "stdout",
          "text": [
            "['Tunisia - 35', 'Nauru - 31', 'Iceland - 35', 'Myanmar - 33', 'Australia - 48']\n"
          ]
        }
      ]
    },
    {
      "cell_type": "code",
      "source": [
        "leads = []\n",
        "for row in propaganda_online:\n",
        "  try:\n",
        "    if row['clicou_no_ad'] > 0:\n",
        "      leads.append(row)\n",
        "  except KeyError:\n",
        "    print(leads)"
      ],
      "metadata": {
        "colab": {
          "base_uri": "https://localhost:8080/"
        },
        "id": "dWMCILNTdWN5",
        "outputId": "7e3d7674-5b77-4fe1-b8f1-bbab72efd36c"
      },
      "execution_count": 33,
      "outputs": [
        {
          "output_type": "stream",
          "name": "stdout",
          "text": [
            "[{'tempo_gasto_site': None, 'idade': 48, 'renda_area': 24593.33, 'tempo_gasto_internet': 131.76, 'cidade': 'Port Jefferybury', 'pais': 'Australia', 'clicou_no_ad': 1}]\n"
          ]
        }
      ]
    },
    {
      "cell_type": "code",
      "source": [
        "cidade = []\n",
        "for roll in propaganda_online:\n",
        "  try:\n",
        "    if roll['tempo_gasto_site'] > 70:\n",
        "      cidade.append(row)\n",
        "  except TypeError:\n",
        "    print(cidade)"
      ],
      "metadata": {
        "colab": {
          "base_uri": "https://localhost:8080/"
        },
        "id": "ybUS0OFGdfvt",
        "outputId": "e615b825-e92d-4568-dbc9-bb66cac0293c"
      },
      "execution_count": 40,
      "outputs": [
        {
          "output_type": "stream",
          "name": "stdout",
          "text": [
            "[{'tempo_gasto_site': 69.88, 'idade': 20, 'renda_area': 55642.32, 'tempo_gasto_internet': 183.82, 'cidade': 'Ramirezton', 'pais': 'Ghana', 'clicou_no_ad': 0}, {'tempo_gasto_site': 69.88, 'idade': 20, 'renda_area': 55642.32, 'tempo_gasto_internet': 183.82, 'cidade': 'Ramirezton', 'pais': 'Ghana', 'clicou_no_ad': 0}]\n"
          ]
        }
      ]
    }
  ]
}